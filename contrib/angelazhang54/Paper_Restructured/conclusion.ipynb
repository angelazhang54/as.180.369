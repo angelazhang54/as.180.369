{
 "cells": [
  {
   "cell_type": "markdown",
   "id": "7794dc22-ade1-4a18-82ac-b72c96a0c34b",
   "metadata": {
    "editable": true,
    "slideshow": {
     "slide_type": ""
    },
    "tags": []
   },
   "source": [
    "# Conclusion "
   ]
  },
  {
   "cell_type": "markdown",
   "id": "1c191a2e-d925-4632-82e7-6ba1d214f21b",
   "metadata": {
    "editable": true,
    "slideshow": {
     "slide_type": ""
    },
    "tags": []
   },
   "source": [
    "This study investigates consumer payment preferences for in-person transactions under $25 in the United States, focusing on the enduring choice between cash and card. While the rapid growth of electronic payment methods has been well-documented in recent years, our findings reinforce the persistence of cash as a preferred payment method for small-value transactions. Drawing on data from the Diary of Consumer Payment Choice (2012–2023), we identified key factors driving this preference, including transaction size, personal budgeting habits, and merchant acceptance.\n",
    "\n",
    "Our findings build on prior research that highlights cash's role in liquidity management and budgeting; however, we refine this narrative by showing how the balance between cash and card usage evolves over time, even as merchant acceptance of cards improves. This study also complements recent contributions, offering further evidence of cash's resilience in a digitalizing economy, particularly for small-value transactions.\n",
    "\n",
    "In addressing the puzzle of why cash remains relevant, we demonstrate that consumer preferences are shaped not only by practical considerations like transaction costs but also by behavioral factors, such as the cognitive benefits of using cash for budgeting. This nuanced understanding extends and emphasizes the interplay of technological adoption, individual habits, and structural factors like merchant practices.\n",
    "\n",
    "Our results have important implications for businesses, financial institutions, and policymakers. For businesses, supporting diverse payment methods remains essential for accommodating consumer preferences. For policymakers, the challenge lies in promoting digital payment innovation while ensuring access to cash for those who rely on it for financial control.\n",
    "\n",
    "Future research could explore the impact of emerging payment technologies, such as mobile wallets and contactless payments, on the dynamics of cash and card usage. Additionally, studying how these developments intersect with consumer attitudes toward security, privacy, and budgeting could provide valuable insights into the future of payment preferences in an increasingly digitalized economy."
   ]
  },
  {
   "cell_type": "markdown",
   "id": "64055282-d5fd-4b32-bde1-770d4728202b",
   "metadata": {
    "editable": true,
    "slideshow": {
     "slide_type": ""
    },
    "tags": []
   },
   "source": []
  }
 ],
 "metadata": {
  "kernelspec": {
   "display_name": "econark",
   "language": "python",
   "name": "econark"
  },
  "language_info": {
   "codemirror_mode": {
    "name": "ipython",
    "version": 3
   },
   "file_extension": ".py",
   "mimetype": "text/x-python",
   "name": "python",
   "nbconvert_exporter": "python",
   "pygments_lexer": "ipython3",
   "version": "3.11.8"
  }
 },
 "nbformat": 4,
 "nbformat_minor": 5
}
