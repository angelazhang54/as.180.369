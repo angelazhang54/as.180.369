{
 "cells": [
  {
   "cell_type": "markdown",
   "id": "68b40860-29e6-406f-a86b-f2e2c308f28c",
   "metadata": {
    "editable": true,
    "slideshow": {
     "slide_type": ""
    },
    "tags": []
   },
   "source": [
    "# Methodology "
   ]
  },
  {
   "cell_type": "markdown",
   "id": "ee89796b-b79f-4876-84a0-a9344fa18fdc",
   "metadata": {
    "editable": true,
    "slideshow": {
     "slide_type": ""
    },
    "tags": []
   },
   "source": [
    "This study utilizes data from the Federal Reserve's Diary of Consumer Payment Choice (2012–2024), focusing exclusively on in-person transactions under $25.\n",
    "\n",
    "To analyze the data, I first examine trends in the volume and percentage shares of cash and card payments over time, covering the period from 2012 to 2023. I construct a graph illustrating the annual number of cash and card payments to highlight shifts in payment behavior.\n",
    "\n",
    "Next, I identify the primary factors influencing consumers' choice between cash and card. Using the dataset, I extract respondents' stated reasons for their payment preferences, represented numerically. I organize these responses into a structured dataframe and compute the mode for each factor to determine the most frequently cited rationale.\n",
    "\n",
    "To assess the role of transaction size, I categorize payments into five groups: less than 10 dollars, 10–25 dollars, 25–50 dollars, 50–100 dollars, and over 100 dollars. For each group, I analyze consumers' payment method preferences and visualize the findings in a comparative graph.\n",
    "\n",
    "All analyses and visualizations are conducted using Python, leveraging tools such as Pandas for data manipulation, Matplotlib for graphical representation, and NumPy for numerical computations within a Jupyter Notebook environment."
   ]
  },
  {
   "cell_type": "code",
   "execution_count": null,
   "id": "cc50edd7-a45e-4675-bc64-7123444e4648",
   "metadata": {},
   "outputs": [],
   "source": []
  }
 ],
 "metadata": {
  "kernelspec": {
   "display_name": "econark",
   "language": "python",
   "name": "econark"
  },
  "language_info": {
   "codemirror_mode": {
    "name": "ipython",
    "version": 3
   },
   "file_extension": ".py",
   "mimetype": "text/x-python",
   "name": "python",
   "nbconvert_exporter": "python",
   "pygments_lexer": "ipython3",
   "version": "3.11.10"
  }
 },
 "nbformat": 4,
 "nbformat_minor": 5
}
