{
 "cells": [
  {
   "cell_type": "markdown",
   "id": "70e66bb4-312f-4fdd-805b-95e17b5bd054",
   "metadata": {},
   "source": [
    "# Results"
   ]
  },
  {
   "cell_type": "markdown",
   "id": "ea0b3387-8c9e-4b34-98b6-b6364cbd93ec",
   "metadata": {
    "editable": true,
    "slideshow": {
     "slide_type": ""
    },
    "tags": []
   },
   "source": [
    "This research paper explores consumer payment preferences in the United States, focusing on the choice between cash and card for in-person transactions under $25. The analysis uses data from the Federal Reserve's annual Diary of Consumer Payment Choice from 2012 to 2023, excluding 2013 and 2014, for which data is unavailable."
   ]
  },
  {
   "attachments": {},
   "cell_type": "markdown",
   "id": "068e8009-035f-4358-bfa2-fa8245369f45",
   "metadata": {
    "editable": true,
    "slideshow": {
     "slide_type": ""
    },
    "tags": []
   },
   "source": [
    "The use of cash for transactions under $25 generally declined from 2012 to 2023, although cash payments increased from 2020 to 2023. In contrast, card usage has steadily risen over the past decade, with the share of card payments also growing during this period.\n",
    "![./num_cash_card_payment.png](./num_cash_card_payment.png)"
   ]
  },
  {
   "cell_type": "markdown",
   "id": "1e9b8587-c104-4987-8ea0-d8152cb67e14",
   "metadata": {
    "editable": true,
    "slideshow": {
     "slide_type": ""
    },
    "tags": []
   },
   "source": [
    "I collected data on the reasons for consumers' preferred payment methods, as listed in the Diary of Consumer Payment Preferences, and wrote code to determine the top reasons consumers preferred cash versus cards. The reasons (labeled numerically) were organized into a dataframe, and I calculated the mode to identify the most frequently cited rationale for each payment method. The main reason respondents reported for using cash was to control their spending, while the primary reason for using a card was its wide acceptance by merchants. This indicates that consumers with stricter budgets may prefer cash, as it allows them to see exactly how much money they have left. Personal budgeting preferences, therefore, play an important role in shaping payment choices for low-value, in-person purchases. On the other hand, the growing acceptance of credit and debit cards by merchants—some of whom even refuse cash—encourages consumers to use cards when available. This underscores how merchant acceptance also influences consumer payment choices for small, in-person transactions."
   ]
  },
  {
   "attachments": {},
   "cell_type": "markdown",
   "id": "b6d9cfd4-2bdc-44e3-9ddb-9397d513558a",
   "metadata": {
    "editable": true,
    "slideshow": {
     "slide_type": ""
    },
    "tags": []
   },
   "source": [
    "In addition, I used data from the Diary of Consumer Payment Preferences to graph how many respondents chose cash or cards for different categories of transaction sizes. The data indicates a clear preference for cash for smaller-sized transactions, showing that transaction size also impacts consumers' payment choices.\n",
    "![./transaction_size_groupings.png](./transaction_size_groupings.png)"
   ]
  },
  {
   "cell_type": "markdown",
   "id": "39c64c3e-fbd4-46cc-b635-a248d9c6ae41",
   "metadata": {},
   "source": []
  }
 ],
 "metadata": {
  "kernelspec": {
   "display_name": "econark",
   "language": "python",
   "name": "econark"
  },
  "language_info": {
   "codemirror_mode": {
    "name": "ipython",
    "version": 3
   },
   "file_extension": ".py",
   "mimetype": "text/x-python",
   "name": "python",
   "nbconvert_exporter": "python",
   "pygments_lexer": "ipython3",
   "version": "3.11.10"
  }
 },
 "nbformat": 4,
 "nbformat_minor": 5
}
