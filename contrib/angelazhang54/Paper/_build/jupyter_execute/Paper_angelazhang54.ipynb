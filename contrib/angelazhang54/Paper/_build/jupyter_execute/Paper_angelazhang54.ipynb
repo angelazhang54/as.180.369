{
 "cells": [
  {
   "cell_type": "markdown",
   "id": "7076b58b-45cd-4a49-8396-0b3cc3aca84b",
   "metadata": {},
   "source": [
    "---\n",
    "title: my analysis of....\n",
    "date: 2024-09-30\n",
    "authors:\n",
    "- name: Angela Zhang\n",
    "---"
   ]
  },
  {
   "cell_type": "markdown",
   "id": "2533d7af-5e2a-4dc5-8c57-cdf525e6ed10",
   "metadata": {},
   "source": [
    "{cite:t}`Shy2023-vc`"
   ]
  },
  {
   "cell_type": "markdown",
   "id": "9cdbd494-b639-499f-a9ca-9f61d76713c9",
   "metadata": {},
   "source": [
    "```{bibliography}\n",
    "\n",
    "```"
   ]
  },
  {
   "cell_type": "markdown",
   "id": "370e75e9-8ea6-4583-b9c1-ab7dd0b69941",
   "metadata": {},
   "source": [
    "# Literature Review on Consumer Payment Preferences for In-Person Transactions under $25: Cash vs. Card\n",
    "\n",
    "Credit and debit card payments have been growing rapidly. Research has shown that cash is still a very prevalent choice for small-value transactions, even today with credit and debit cards being very convenient and accessible options. This literature review examines consumer preferences for cash vs card payments for in-person transactions under $25, exploring the factors that influence these choices and why many people still prefer using cash in an increasingly digital payment landscape.\n",
    "\n",
    "Transaction size is a crucial determinant of payment choice. Cohen {cite:t}`Cohen2013-vs` used scanner data over three years to track payment choice for grocery purchases, and their findings indicate that consumers used cash for almost all of the smallest transactions, and cards, and to a certain extent checks, for larger transactions.\n",
    "\n",
    "Consumer preferences are also an important factor. Stavins {cite:t}`Stavins2017-ns` identifies several factors affecting consumer payment behavior, including consumer demographics and income, consumer habits, and consumer assessments of payment method attributes. Wakamori {cite:t}`Wakamori2017-hr` uses unique shopping diary data to model payment choices and estimates that cash usage would only decrease by very little even if all merchants accepted cards, implying that cash usage in small-value transactions is driven mainly by consumer preferences.\n",
    "\n",
    "Merchant card acceptance and pricing incentives also play an important role in influencing consumers’ payment choices. Arango {cite:t}`Arango2015-yq` finds that the lack of merchant card acceptance plays a large role in the use of cash, especially for low-value transactions (less than 25 dollars). \n",
    "\n",
    "Several studies also highlight factors that may limit card usage for small-value purchases. Von Kalckreuth {cite:t}`Kalckreuth2014-fm` suggests that some consumers who need to keep control over their remaining liquidity and who have elevated costs of information processing might prefer cash for small transactions. Ching {cite:t}`Ching2010-hw` examined the impact of card reward programs on consumer payment choice, finding that for the sub-population who hold both credit and debit cards, removing rewards would increase their share of paper-based payment methods (i.e., cash and checks), measured in terms of in-store transactions, by no more than 4 percentage points. Wakamori {cite:t}`Wakamori2017-hr` also finds that participation in a credit card rewards program induces a shift toward credit card usage at the expense of both debit cards and cash, and that changes in the amount of rewards (ad valorem) has a small or inelastic effect on the probability of paying with credit cards.\n",
    "\n",
    "The literature suggests that despite the increasing availability and convenience of card payments, cash remains a preferred choice for many consumers for small-value transactions. This preference is influenced by many factors, including transaction size, personal preferences, and the perceived benefits of cash for small purchases. Understanding these preferences is crucial for both policy makers and financial institutions as they shape the future of payment systems."
   ]
  },
  {
   "cell_type": "code",
   "execution_count": null,
   "id": "46aa6090-489c-45a6-9423-0554f001356c",
   "metadata": {},
   "outputs": [],
   "source": []
  }
 ],
 "metadata": {
  "kernelspec": {
   "display_name": "econark",
   "language": "python",
   "name": "econark"
  },
  "language_info": {
   "codemirror_mode": {
    "name": "ipython",
    "version": 3
   },
   "file_extension": ".py",
   "mimetype": "text/x-python",
   "name": "python",
   "nbconvert_exporter": "python",
   "pygments_lexer": "ipython3",
   "version": "3.11.8"
  }
 },
 "nbformat": 4,
 "nbformat_minor": 5
}