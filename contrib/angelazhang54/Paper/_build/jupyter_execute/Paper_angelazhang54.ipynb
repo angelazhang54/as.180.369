{
 "cells": [
  {
   "cell_type": "markdown",
   "id": "7076b58b-45cd-4a49-8396-0b3cc3aca84b",
   "metadata": {},
   "source": [
    "---\n",
    "title: my analysis of....\n",
    "date: 2024-09-30\n",
    "authors:\n",
    "- name: Angela Zhang\n",
    "---"
   ]
  },
  {
   "cell_type": "markdown",
   "id": "2533d7af-5e2a-4dc5-8c57-cdf525e6ed10",
   "metadata": {},
   "source": [
    "{cite:t}`Shy2023-vc`"
   ]
  },
  {
   "cell_type": "markdown",
   "id": "9cdbd494-b639-499f-a9ca-9f61d76713c9",
   "metadata": {},
   "source": [
    "```{bibliography}\n",
    "\n",
    "```"
   ]
  },
  {
   "cell_type": "code",
   "execution_count": null,
   "id": "cbfdeff2-e5e7-4a8b-af24-db6e2dbf99c4",
   "metadata": {},
   "outputs": [],
   "source": []
  }
 ],
 "metadata": {
  "kernelspec": {
   "display_name": "econark",
   "language": "python",
   "name": "econark"
  },
  "language_info": {
   "codemirror_mode": {
    "name": "ipython",
    "version": 3
   },
   "file_extension": ".py",
   "mimetype": "text/x-python",
   "name": "python",
   "nbconvert_exporter": "python",
   "pygments_lexer": "ipython3",
   "version": "3.11.8"
  }
 },
 "nbformat": 4,
 "nbformat_minor": 5
}