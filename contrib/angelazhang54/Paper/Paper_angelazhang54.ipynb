{
 "cells": [
  {
   "cell_type": "markdown",
   "id": "7076b58b-45cd-4a49-8396-0b3cc3aca84b",
   "metadata": {},
   "source": [
    "---\n",
    "title: Consumer Payment Preferences in the United States for In-Person Payments Under $25\n",
    "date: 2024-09-30\n",
    "authors:\n",
    "- name: Angela Zhang\n",
    "---"
   ]
  },
  {
   "cell_type": "markdown",
   "id": "15c21144-1041-4e48-aa32-88fef5e8f071",
   "metadata": {},
   "source": [
    "# Abstract\n",
    "\n",
    "This paper investigates the determinants of consumer payment preferences for small-value, in-person transactions in the United States, focusing on the choice between cash and card payments for transactions under $25. As digital payment methods proliferate, understanding these preferences is crucial for shaping economic policy and business strategy. Utilizing data from the Federal Reserve's annual Diary of Consumer Payment Choice from 2008-2024, we employ panel data analysis to track trends in payment method selection over time. Our analysis reveals that although card payments now constitute a growing proportion of such transactions, cash usage has not significantly declined, suggesting the persistence of cash alongside increased card usage. These findings carry significant implications for public policy, particularly concerning financial inclusion and the evolving role of cash, as well as for retailers and payment service providers, who must adapt to increasingly diverse payment preferences. Future research could examine the impact of emerging digital payment methods on the persistence of cash usage."
   ]
  },
  {
   "cell_type": "markdown",
   "id": "661fee7f-062d-4915-a8b2-8e9187e413a5",
   "metadata": {},
   "source": [
    "# Introduction\n",
    "\n",
    "Today, consumers have a wide variety of payment options, from cash to credit card to debit card and even to mobile payment apps. Although many electronic payment methods have become more prevalent, many people still choose to make payments, particularly small-value payments, in cash. \n",
    "\n",
    "Many factors influence payment method choice, including transaction size, personal budgeting habits, and merchant acceptance. While card payments offer benefits such as cashback programs and electronic records of expenses, cash transactions are faster and help some consumers maintain stricter spending. Understanding consumer preferences in this area is important for businesses, financial institutions, and policymakers. For businesses, particularly merchants in the retail and food industries where small transactions are common, aligning payment systems with customer preferences can help increase profit. Financial institutions and technology companies developing payment solutions need to understand these preferences to create products that meet consumer needs. Central banks and governments must consider these trends when making decisions about the future of physical currency and the promotion of digital payment systems. \n",
    "\n",
    "This paper will focus specifically on consumer preferences between cash and card payments for in-person transactions under \\$25 in the United States. Our research question is: Do consumers in the United States prefer using cash or card for in-person transactions under \\$25, and what factors influence this preference? We will analyze data from the Survey and Diary of Consumer Payment Choice from 2008-2024 to identify patterns in payment preferences for in-person transactions under \\$25. By examining both payment data and insights into consumer decision-making processes, we hope to understand how and why individuals choose between cash and card payments as well as implications for businesses, financial institutions, and the economy. \n",
    "\n",
    "In the following sections, we will look at existing relevant literature on this topic, explain our methodology, and discuss our findings as well as the broader implications. We hope to shed light on the persistence of cash usage in small transactions and contribute to ongoing discussions about the future of payment systems in today's increasingly digital economy."
   ]
  },
  {
   "cell_type": "markdown",
   "id": "370e75e9-8ea6-4583-b9c1-ab7dd0b69941",
   "metadata": {},
   "source": [
    "# Literature Review\n",
    "\n",
    "Credit and debit card payments have been growing rapidly. Research has shown that cash is still a very prevalent choice for small-value transactions, even today with credit and debit cards being very convenient and accessible options. This literature review examines consumer preferences for cash vs card payments for in-person transactions under $25, exploring the factors that influence these choices and why many people still prefer using cash in an increasingly digital payment landscape.\n",
    "\n",
    "Transaction size is a crucial determinant of payment choice. Cohen {cite:t}`Cohen2013-vs` used scanner data over three years to track payment choice for grocery purchases, and their findings indicate that consumers used cash for almost all of the smallest transactions, and cards, and to a certain extent checks, for larger transactions.\n",
    "\n",
    "Consumer preferences are also an important factor. Stavins {cite:t}`Stavins2017-ns` identifies several factors affecting consumer payment behavior, including consumer demographics and income, consumer habits, and consumer assessments of payment method attributes. Wakamori {cite:t}`Wakamori2017-hr` uses unique shopping diary data to model payment choices and estimates that cash usage would only decrease by very little even if all merchants accepted cards, implying that cash usage in small-value transactions is driven mainly by consumer preferences.\n",
    "\n",
    "Merchant card acceptance and pricing incentives also play an important role in influencing consumers’ payment choices. Arango {cite:t}`Arango2015-yq` finds that the lack of merchant card acceptance plays a large role in the use of cash, especially for low-value transactions (less than 25 dollars). \n",
    "\n",
    "Several studies also highlight factors that may limit card usage for small-value purchases. Von Kalckreuth {cite:t}`Kalckreuth2014-fm` suggests that some consumers who need to keep control over their remaining liquidity and who have elevated costs of information processing might prefer cash for small transactions. Ching {cite:t}`Ching2010-hw` examined the impact of card reward programs on consumer payment choice, finding that for the sub-population who hold both credit and debit cards, removing rewards would increase their share of paper-based payment methods (i.e., cash and checks), measured in terms of in-store transactions, by no more than 4 percentage points. Wakamori {cite:t}`Wakamori2017-hr` also finds that participation in a credit card rewards program induces a shift toward credit card usage at the expense of both debit cards and cash, and that changes in the amount of rewards (ad valorem) has a small or inelastic effect on the probability of paying with credit cards.\n",
    "\n",
    "The literature suggests that despite the increasing availability and convenience of card payments, cash remains a preferred choice for many consumers for small-value transactions. This preference is influenced by many factors, including transaction size, personal preferences, and the perceived benefits of cash for small purchases. Understanding these preferences is crucial for both policy makers and financial institutions as they shape the future of payment systems."
   ]
  },
  {
   "cell_type": "markdown",
   "id": "4e24dc66-d84d-4ddf-a79c-bcacb46fc182",
   "metadata": {},
   "source": [
    "```{bibliography}\n",
    "```"
   ]
  },
  {
   "cell_type": "code",
   "execution_count": null,
   "id": "f7944643-3a82-4506-939e-67f7f5f4d35c",
   "metadata": {},
   "outputs": [],
   "source": []
  }
 ],
 "metadata": {
  "kernelspec": {
   "display_name": "econark",
   "language": "python",
   "name": "econark"
  },
  "language_info": {
   "codemirror_mode": {
    "name": "ipython",
    "version": 3
   },
   "file_extension": ".py",
   "mimetype": "text/x-python",
   "name": "python",
   "nbconvert_exporter": "python",
   "pygments_lexer": "ipython3",
   "version": "3.11.8"
  }
 },
 "nbformat": 4,
 "nbformat_minor": 5
}
