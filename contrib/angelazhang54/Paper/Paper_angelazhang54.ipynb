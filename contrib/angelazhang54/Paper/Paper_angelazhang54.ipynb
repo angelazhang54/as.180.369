{
 "cells": [
  {
   "cell_type": "markdown",
   "id": "7076b58b-45cd-4a49-8396-0b3cc3aca84b",
   "metadata": {},
   "source": [
    "---\n",
    "title: Consumer Payment Preferences in the United States for In-Person Payments Under $25\n",
    "date: 2024-09-30\n",
    "authors:\n",
    "- name: Angela Zhang\n",
    "---"
   ]
  },
  {
   "cell_type": "markdown",
   "id": "15c21144-1041-4e48-aa32-88fef5e8f071",
   "metadata": {},
   "source": [
    "# Abstract\n",
    "\n",
    "This paper investigates the determinants of consumer payment preferences for small-value, in-person transactions in the United States, focusing on the choice between cash and card payments for transactions under $25. As digital payment methods proliferate, understanding these preferences is crucial for shaping economic policy and business strategy. Utilizing data from the Federal Reserve's annual Diary of Consumer Payment Choice from 2008-2024, we employ panel data analysis to track trends in payment method selection over time. Our analysis reveals that although card payments now constitute a growing proportion of such transactions, cash usage has not significantly declined, suggesting the persistence of cash alongside increased card usage. These findings carry significant implications for public policy, particularly concerning financial inclusion and the evolving role of cash, as well as for retailers and payment service providers, who must adapt to increasingly diverse payment preferences. Future research could examine the impact of emerging digital payment methods on the persistence of cash usage."
   ]
  },
  {
   "cell_type": "markdown",
   "id": "661fee7f-062d-4915-a8b2-8e9187e413a5",
   "metadata": {},
   "source": [
    "# Introduction\n",
    "\n",
    "Today, consumers have a wide variety of payment options, from cash to credit card to debit card and even to mobile payment apps. Although many electronic payment methods have become more prevalent, many people still choose to make payments, particularly small-value payments, in cash. \n",
    "\n",
    "Many factors influence payment method choice, including transaction size, personal budgeting habits, and merchant acceptance. While card payments offer benefits such as cashback programs and electronic records of expenses, cash transactions are faster and help some consumers maintain stricter spending. Understanding consumer preferences in this area is important for businesses, financial institutions, and policymakers. For businesses, particularly merchants in the retail and food industries where small transactions are common, aligning payment systems with customer preferences can help increase profit. Financial institutions and technology companies developing payment solutions need to understand these preferences to create products that meet consumer needs. Central banks and governments must consider these trends when making decisions about the future of physical currency and the promotion of digital payment systems. \n",
    "\n",
    "This paper will focus specifically on consumer preferences between cash and card payments for in-person transactions under \\$25 in the United States. Our research question is: Do consumers in the United States prefer using cash or card for in-person transactions under \\$25, and what factors influence this preference? We will analyze data from the Survey and Diary of Consumer Payment Choice from 2008-2024 to identify patterns in payment preferences for in-person transactions under \\$25. By examining both payment data and insights into consumer decision-making processes, we hope to understand how and why individuals choose between cash and card payments as well as implications for businesses, financial institutions, and the economy. \n",
    "\n",
    "In the following sections, we will look at existing relevant literature on this topic, explain our methodology, and discuss our findings as well as the broader implications. We hope to shed light on the persistence of cash usage in small transactions and contribute to ongoing discussions about the future of payment systems in today's increasingly digital economy."
   ]
  },
  {
   "cell_type": "markdown",
   "id": "85332254-1f9b-4462-b23a-6661f4732ce6",
   "metadata": {},
   "source": [
    "# Literature Review\n",
    "\n",
    "Credit and debit card payments have been growing rapidly. However, research shows that cash remains a prevalent choice for small-value transactions, despite the convenience and accessibility of credit and debit cards. This literature review traces the evolution of consumer payment preferences and lays the foundation for this paper.\n",
    "\n",
    "Researchers began examining factors influencing consumer payment choices in the 2000s. Borzekowski et al. {cite:t}`Borzekowski2006-kh` (2006) provided early insights into consumers' use of debit cards by exploring patterns, preferences, and price responses. Their study laid important groundwork for understanding how consumers were starting to adopt electronic payment methods.\n",
    "\n",
    "In the early 2010s, research increasingly focused on the nuances of consumer payment behavior. Cohen and Rysman {cite:t}`Cohen2013-vs` (2013) used scanner data to track payment choices for grocery purchases over three years. Their study revealed that households tend to concentrate spending on one or two payment instruments, with cash overwhelmingly preferred for the smallest transactions.\n",
    "\n",
    "Several studies in 2014 further expanded our understanding of consumer payment preferences. Wang and Wolman {cite:t}`Wang2014-tc` analyzed two billion retail transactions, revealing emerging trends and providing insights into the future of currency. Von Kalckreuth et al. {cite:t}`Kalckreuth2014-fm` suggested that consumers prefer cash for small transactions due to liquidity control needs and the high cognitive cost of processing information. Huynh et al. {cite:t}`Huynh2014-sg` examined how merchant card acceptance affects consumer payment choices and cash holdings, providing key insights into the demand for cash in relation to card acceptance.\n",
    "\n",
    "Arango et al. {cite:t}`Arango2015-yq` (2015) brought attention to the supply side, demonstrating that a lack of merchant card acceptance still significantly drives cash usage, particularly for transactions under $25. This work highlighted the complex interaction between consumer preferences and merchant practices.\n",
    "\n",
    "In 2016, Koulayev et al. {cite:t}`Koulayev2016-af` developed a structural model explaining the adoption and use of payment instruments by U.S. consumers. Their work offered valuable insights into how consumers decide which payment methods to adopt and use for specific transactions.\n",
    "\n",
    "The year 2017 saw several important contributions to the field. Stavins {cite:t}`Stavins2017-ns` identified a broad range of influences on consumer payment behavior, including demographics, income, habits, and assessments of payment method attributes. Wakamori and Welte {cite:t}`Wakamori2017-hr` used shopping diary data to challenge the notion that cash usage is driven primarily by a lack of merchant card acceptance. Their findings suggested that, even with universal card acceptance, cash usage for small-value transactions would only decrease marginally, indicating that consumer preference plays a central role. Van der Cruijsen et al. {cite:t}`Cruijsen2017-rl` captured the complex relationship between consumers and payment methods in their study \"In love with the debit card but still married to cash,\" emphasizing the enduring preference for cash despite the growing popularity of debit cards.\n",
    "\n",
    "Most recently, Shy {cite:t}`Shy2023-vc` (2023), in his comprehensive review \"Cash Is Alive: How Economists Explain Holding and Use of Cash,\" synthesized various economic explanations for the continued prevalence of cash and reflected on its persistence in an increasingly digital age.\n",
    "\n",
    "Despite the increasing availability and convenience of electronic payment methods, cash remains the preferred choice for many consumers in small-value transactions. This persistence underscores the complex interplay of factors — transaction size, personal preferences, and merchant acceptance — that shape consumer payment behavior. As we look to the future, this literature provides a solid foundation for understanding and responding to evolving consumer preferences in a diverse payment landscape"
   ]
  },
  {
   "cell_type": "markdown",
   "id": "4e24dc66-d84d-4ddf-a79c-bcacb46fc182",
   "metadata": {},
   "source": [
    "```{bibliography}\n",
    "```"
   ]
  },
  {
   "cell_type": "code",
   "execution_count": null,
   "id": "f7944643-3a82-4506-939e-67f7f5f4d35c",
   "metadata": {},
   "outputs": [],
   "source": []
  }
 ],
 "metadata": {
  "kernelspec": {
   "display_name": "econark",
   "language": "python",
   "name": "econark"
  },
  "language_info": {
   "codemirror_mode": {
    "name": "ipython",
    "version": 3
   },
   "file_extension": ".py",
   "mimetype": "text/x-python",
   "name": "python",
   "nbconvert_exporter": "python",
   "pygments_lexer": "ipython3",
   "version": "3.11.10"
  }
 },
 "nbformat": 4,
 "nbformat_minor": 5
}
