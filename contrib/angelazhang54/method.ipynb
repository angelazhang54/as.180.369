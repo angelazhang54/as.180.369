{
 "cells": [
  {
   "cell_type": "markdown",
   "id": "68b40860-29e6-406f-a86b-f2e2c308f28c",
   "metadata": {},
   "source": [
    "# Methodology "
   ]
  },
  {
   "cell_type": "markdown",
   "id": "ee89796b-b79f-4876-84a0-a9344fa18fdc",
   "metadata": {},
   "source": [
    "For this research, I use data from the Federal Reserve's Diary of Consumer Payment Choice from 2012 to 2024. I focus only on in-person payments under $25.\n",
    "\n",
    "To analyze my data, I first look at how the number and percentage of cash vs. card payments changed over time from 2012 to 2023 and made a graph showing the change in number of cash and card payments each year.\n",
    "\n",
    "I then extract from the data what are the biggest factors that influence consumers' top choice between cash and card for a payment.\n",
    "\n",
    "I used a logistic regression to look at how transaction size influences consumers' preferences for cash vs card. My dependent variable is whether someone uses cash (0) or card (1) for a payment. My independent variables is transaction size. My main regression equation is Prob(Cash Payment) = β₀ + β₁(transaction size) + ε\n",
    "\n",
    "I conduct my analysis and create visuals to depict my results using tools such as Pandas, Matplotlib, and Numpy in a Jupyter Notebook.\n"
   ]
  },
  {
   "cell_type": "code",
   "execution_count": null,
   "id": "cc50edd7-a45e-4675-bc64-7123444e4648",
   "metadata": {},
   "outputs": [],
   "source": []
  }
 ],
 "metadata": {
  "kernelspec": {
   "display_name": "econark",
   "language": "python",
   "name": "econark"
  },
  "language_info": {
   "codemirror_mode": {
    "name": "ipython",
    "version": 3
   },
   "file_extension": ".py",
   "mimetype": "text/x-python",
   "name": "python",
   "nbconvert_exporter": "python",
   "pygments_lexer": "ipython3",
   "version": "3.11.8"
  }
 },
 "nbformat": 4,
 "nbformat_minor": 5
}
