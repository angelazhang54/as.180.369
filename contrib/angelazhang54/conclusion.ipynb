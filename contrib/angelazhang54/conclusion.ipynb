{
 "cells": [
  {
   "cell_type": "markdown",
   "id": "7794dc22-ade1-4a18-82ac-b72c96a0c34b",
   "metadata": {},
   "source": [
    "# Conclusion "
   ]
  },
  {
   "cell_type": "markdown",
   "id": "1c191a2e-d925-4632-82e7-6ba1d214f21b",
   "metadata": {},
   "source": [
    "This study examines consumer payment preferences, specifically the choice between cash or card, for in-person transactions in the United States under $25. We found that although the number and proportion of electronic payments have been growing, cash still remains a popular for small transactions to help control spending. Using data from the Diary of Consumer Payment Choice from 2012–2023, we identified key factors, such as transaction size, personal budgeting habits, and merchant acceptance, that influence these preferences. Though this paper is limited to small, in-person transactions, our findings suggest that businesses and financial institutions can benefit by supporting a range of payment options. Further research could explore how these preferences change as digital or mobile payment options develop. Policymakers can also utilize these insights to balance the promotion of digital payments with maintaining financial inclusivity. Ultimately, our findings highlight the importance of accommodating diverse consumer preferences to create a resilient and efficient payment landscape."
   ]
  }
 ],
 "metadata": {
  "kernelspec": {
   "display_name": "econark",
   "language": "python",
   "name": "econark"
  },
  "language_info": {
   "codemirror_mode": {
    "name": "ipython",
    "version": 3
   },
   "file_extension": ".py",
   "mimetype": "text/x-python",
   "name": "python",
   "nbconvert_exporter": "python",
   "pygments_lexer": "ipython3",
   "version": "3.11.8"
  }
 },
 "nbformat": 4,
 "nbformat_minor": 5
}
