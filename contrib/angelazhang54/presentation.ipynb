{
 "cells": [
  {
   "cell_type": "markdown",
   "id": "6819c729-1cca-418d-ac21-cbf0b513f34b",
   "metadata": {},
   "source": [
    "<h1 style=\"text-align: center;\">Consumer Payment Preferences for Small-Value Transactions: Cash or Card?</h1>\n",
    "<h4 style=\"text-align: center;\">by Angela Zhang</h3>"
   ]
  },
  {
   "cell_type": "markdown",
   "id": "7f27442b-698c-432e-b2ba-112a3b6a49d1",
   "metadata": {},
   "source": [
    "<h2 style=\"text-align: center;\">Abstract</h2>"
   ]
  },
  {
   "cell_type": "markdown",
   "id": "691e30e6-e28b-41de-ad1b-95772b53a3a3",
   "metadata": {
    "editable": true,
    "slideshow": {
     "slide_type": ""
    },
    "tags": []
   },
   "source": [
    "This paper investigates the determinants of consumer payment preferences for small-value, in-person transactions in the United States, focusing on the choice between cash and card payments for transactions under $25. As digital payment methods proliferate, understanding these preferences is crucial for shaping economic policy and business strategy. Utilizing data from the Federal Reserve's annual Diary of Consumer Payment Choice from 2008-2024, we employ panel data analysis to track trends in payment method selection over time. Our analysis reveals that although card payments now constitute a growing proportion of such transactions, cash usage has not significantly declined, suggesting the persistence of cash alongside increased card usage. These findings carry significant implications for public policy, particularly concerning financial inclusion and the evolving role of cash, as well as for retailers and payment service providers, who must adapt to increasingly diverse payment preferences. Future research could examine the impact of emerging digital payment methods on the persistence of cash usage."
   ]
  },
  {
   "cell_type": "markdown",
   "id": "e546b7ea-5e68-4525-96bc-17e40f8f6160",
   "metadata": {},
   "source": [
    "<h2 style=\"text-align: center;\">Introduction</h2>"
   ]
  },
  {
   "cell_type": "markdown",
   "id": "fa6b3035-cf85-45b5-885b-78ef0e37b47d",
   "metadata": {
    "editable": true,
    "slideshow": {
     "slide_type": ""
    },
    "tags": []
   },
   "source": [
    "Today, consumers have a wide variety of payment options, from cash to credit card to debit card and even to mobile payment apps. Although many electronic payment methods have become more prevalent, many people still choose to make payments, particularly small-value payments, in cash. \n",
    "\n",
    "Many factors influence payment method choice, including transaction size, personal budgeting habits, and merchant acceptance. While card payments offer benefits such as cashback programs and electronic records of expenses, cash transactions are faster and help some consumers maintain stricter spending. Understanding consumer preferences in this area is important for businesses, financial institutions, and policymakers. For businesses, particularly merchants in the retail and food industries where small transactions are common, aligning payment systems with customer preferences can help increase profit. Financial institutions and technology companies developing payment solutions need to understand these preferences to create products that meet consumer needs. Central banks and governments must consider these trends when making decisions about the future of physical currency and the promotion of digital payment systems. \n",
    "\n",
    "This paper will focus specifically on consumer preferences between cash and card payments for in-person transactions under \\$25 in the United States. Our research question is: Do consumers in the United States prefer using cash or card for in-person transactions under \\$25, and what factors influence this preference? We will analyze data from the Diary of Consumer Payment Choice from 2012-2023 to identify patterns in payment preferences for in-person transactions under \\$25. By examining both payment data and insights into consumer decision-making processes, we hope to understand how and why individuals choose between cash and card payments as well as implications for businesses, financial institutions, and the economy. \n",
    "\n",
    "In the following sections, we will look at existing relevant literature on this topic, explain our methodology, and discuss our findings as well as the broader implications. We hope to shed light on the persistence of cash usage in small transactions and contribute to ongoing discussions about the future of payment systems in today's increasingly digital economy."
   ]
  },
  {
   "cell_type": "markdown",
   "id": "824a02b3-55c2-412c-a0b2-9703cf64e487",
   "metadata": {},
   "source": [
    "<h2 style=\"text-align: center;\">Literature Review</h2>"
   ]
  },
  {
   "cell_type": "markdown",
   "id": "fc3509dd-ae4e-40c3-aef3-8e7e8e5e4d39",
   "metadata": {
    "editable": true,
    "slideshow": {
     "slide_type": ""
    },
    "tags": []
   },
   "source": [
    "Credit and debit card payments have been growing rapidly. However, research shows that cash remains a prevalent choice for small-value transactions, despite the convenience and accessibility of credit and debit cards. This literature review traces the evolution of consumer payment preferences and lays the foundation for this paper.\n",
    "\n",
    "Researchers began examining factors influencing consumer payment choices in the 2000s. Borzekowski et al. {cite:t}`Borzekowski2006-kh` (2006) provided early insights into consumers' use of debit cards by exploring patterns, preferences, and price responses. Their study laid important groundwork for understanding how consumers were starting to adopt electronic payment methods.\n",
    "\n",
    "In the early 2010s, research increasingly focused on the nuances of consumer payment behavior. Cohen and Rysman {cite:t}`Cohen2013-vs` (2013) used scanner data to track payment choices for grocery purchases over three years. Their study revealed that households tend to concentrate spending on one or two payment instruments, with cash overwhelmingly preferred for the smallest transactions.\n",
    "\n",
    "Several studies in 2014 further expanded our understanding of consumer payment preferences. Wang and Wolman {cite:t}`Wang2014-tc` analyzed two billion retail transactions, revealing emerging trends and providing insights into the future of currency. Von Kalckreuth et al. {cite:t}`Kalckreuth2014-fm` suggested that consumers prefer cash for small transactions due to liquidity control needs and the high cognitive cost of processing information. Huynh et al. {cite:t}`Huynh2014-sg` examined how merchant card acceptance affects consumer payment choices and cash holdings, providing key insights into the demand for cash in relation to card acceptance.\n",
    "\n",
    "Arango et al. {cite:t}`Arango2015-yq` (2015) brought attention to the supply side, demonstrating that a lack of merchant card acceptance still significantly drives cash usage, particularly for transactions under $25. This work highlighted the complex interaction between consumer preferences and merchant practices.\n",
    "\n",
    "In 2016, Koulayev et al. {cite:t}`Koulayev2016-af` developed a structural model explaining the adoption and use of payment instruments by U.S. consumers. Their work offered valuable insights into how consumers decide which payment methods to adopt and use for specific transactions.\n",
    "\n",
    "The year 2017 saw several important contributions to the field. Stavins {cite:t}`Stavins2017-ns` identified a broad range of influences on consumer payment behavior, including demographics, income, habits, and assessments of payment method attributes. Wakamori and Welte {cite:t}`Wakamori2017-hr` used shopping diary data to challenge the notion that cash usage is driven primarily by a lack of merchant card acceptance. Their findings suggested that, even with universal card acceptance, cash usage for small-value transactions would only decrease marginally, indicating that consumer preference plays a central role. Van der Cruijsen et al. {cite:t}`Cruijsen2017-rl` captured the complex relationship between consumers and payment methods in their study \"In love with the debit card but still married to cash,\" emphasizing the enduring preference for cash despite the growing popularity of debit cards.\n",
    "\n",
    "Most recently, Shy {cite:t}`Shy2023-vc` (2023), in his comprehensive review \"Cash Is Alive: How Economists Explain Holding and Use of Cash,\" synthesized various economic explanations for the continued prevalence of cash and reflected on its persistence in an increasingly digital age.\n",
    "\n",
    "Despite the increasing availability and convenience of electronic payment methods, cash remains the preferred choice for many consumers in small-value transactions. This persistence underscores the complex interplay of factors — transaction size, personal preferences, and merchant acceptance — that shape consumer payment behavior. As we look to the future, this literature provides a solid foundation for understanding and responding to evolving consumer preferences in a diverse payment landscape"
   ]
  },
  {
   "cell_type": "markdown",
   "id": "cc6ecd1e-8480-408d-bcef-fc23a85483c7",
   "metadata": {
    "editable": true,
    "slideshow": {
     "slide_type": ""
    },
    "tags": []
   },
   "source": [
    "<h2 style=\"text-align: center;\">Methodology</h2>"
   ]
  },
  {
   "cell_type": "markdown",
   "id": "69d1c06a-c582-4841-a43c-3ded3380ab1a",
   "metadata": {
    "editable": true,
    "slideshow": {
     "slide_type": ""
    },
    "tags": []
   },
   "source": [
    "For this research, I use data from the Federal Reserve's Diary of Consumer Payment Choice from 2012 to 2024. I focus only on in-person payments under $25.\n",
    "\n",
    "To analyze my data, I first look at how the number and percentage of cash vs. card payments changed over time from 2012 to 2023 and made a graph showing the change in number of cash and card payments each year.\n",
    "\n",
    "I then extract from the data what are the biggest factors that influence consumers' top choice between cash and card for a payment, focusing on transaction size, merchant acceptance, and budgeting preferences.\n",
    "\n",
    "I used a logistic regression to look at how transaction size influences consumers' preferences for cash vs card. My dependent variable is whether someone uses cash (0) or card (1) for a payment. My independent variables is transaction size. My main regression equation is Prob(Cash Payment) = β₀ + β₁(transaction size) + ε\n",
    "\n",
    "I conduct my analysis and create visuals to depict my results using tools such as Pandas, Matplotlib, and Numpy in a Jupyter Notebook."
   ]
  },
  {
   "cell_type": "markdown",
   "id": "1e6fcae0-ce72-49d0-b32a-2476c92f6866",
   "metadata": {},
   "source": [
    "<h2 style=\"text-align: center;\">Results</h2>"
   ]
  },
  {
   "cell_type": "markdown",
   "id": "cd880852-b8eb-4442-9cbb-88dca2e89a47",
   "metadata": {
    "editable": true,
    "slideshow": {
     "slide_type": ""
    },
    "tags": []
   },
   "source": [
    "This research paper explores consumer payment preferences in the United States, focusing on the choice between cash and card for in-person transactions under $25. The analysis uses data from the Federal Reserve's annual Diary of Consumer Payment Choice from 2012 to 2023, excluding 2013 and 2014, for which data is unavailable.\n",
    "\n",
    "The use of cash for transactions under $25 generally declined from 2012 to 2023, although cash payments did increase from 2020 to 2023. In contrast, card usage has steadily risen over the past decade, with the share of card payments also growing during this period.\n",
    "<center><img src=\"./num_cash_card_payments.png\" width=\"800\"></center>\n",
    "\n",
    "I collected data on the reasons for consumers' preferred payment method, which were listed in the Diary of Consumer Payment Preferences, and wrote code to figure out what were the top reasons consumers preferred to use cash vs card. The main reason respondents reported using cash was to control their spending, while the main reason for using a card was that it was widely accepted by merchants. This indicates that consumers with stricter budgets may prefer cash, as it allows them to see exactly how much money they have left. Personal budgeting preferences, therefore, play an important role in shaping payment choices for low-value, in-person purchases. On the other hand, the growing acceptance of credit and debit cards by merchants, with some even refusing cash, seems to encourage consumers to use cards when they are an option. This underscores how merchant acceptance also influences consumer payment choices for small in-person transactions.\n",
    "\n",
    "In addition, I also took data from the Diary of Consumer Payment Preferences and graphed out how many respondents chose cash or card for different categories of transaction sizes. The data indicates a clear preference for cash for smaller sized transactions, which shows that transaction size also impacts consumers' payment choices. \n",
    "<center><img src=\"./transaction_size_groupings.png\" width=\"800\"></center>"
   ]
  },
  {
   "cell_type": "markdown",
   "id": "1044cae0-3c7b-4b73-977f-c8dfaf680f1b",
   "metadata": {},
   "source": [
    "<h1 style=\"text-align: center;\">Conclusion</h1>"
   ]
  },
  {
   "cell_type": "markdown",
   "id": "3aafadb1-b46b-4df0-a059-707db188767d",
   "metadata": {
    "editable": true,
    "slideshow": {
     "slide_type": ""
    },
    "tags": []
   },
   "source": [
    "This study examines consumer payment preferences, specifically the choice between cash or card, for in-person transactions in the United States under $25. We found that although the number and proportion of electronic payments have been growing, cash still remains a popular for small transactions to help control spending. Using data from the Diary of Consumer Payment Choice from 2012–2023, we identified key factors, such as transaction size, personal budgeting habits, and merchant acceptance, that influence these preferences. Though this paper is limited to small, in-person transactions, our findings suggest that businesses and financial institutions can benefit by supporting a range of payment options. Further research could explore how these preferences change as digital or mobile payment options develop. Policymakers can also utilize these insights to balance the promotion of digital payments with maintaining financial inclusivity. Ultimately, our findings highlight the importance of accommodating diverse consumer preferences to create a resilient and efficient payment landscape."
   ]
  },
  {
   "cell_type": "code",
   "execution_count": null,
   "id": "a054db0a-4c47-49d6-92ba-784f215985ef",
   "metadata": {},
   "outputs": [],
   "source": []
  }
 ],
 "metadata": {
  "kernelspec": {
   "display_name": "econark",
   "language": "python",
   "name": "econark"
  },
  "language_info": {
   "codemirror_mode": {
    "name": "ipython",
    "version": 3
   },
   "file_extension": ".py",
   "mimetype": "text/x-python",
   "name": "python",
   "nbconvert_exporter": "python",
   "pygments_lexer": "ipython3",
   "version": "3.11.8"
  }
 },
 "nbformat": 4,
 "nbformat_minor": 5
}
