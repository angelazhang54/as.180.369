{
 "cells": [
  {
   "cell_type": "markdown",
   "id": "6819c729-1cca-418d-ac21-cbf0b513f34b",
   "metadata": {
    "editable": true,
    "slideshow": {
     "slide_type": "slide"
    },
    "tags": []
   },
   "source": [
    "<h1 style=\"text-align: center;\">Consumer Payment Preferences for Small-Value Transactions: Cash or Card?</h1>\n",
    "<h4 style=\"text-align: center;\">by Angela Zhang</h4>\n",
    "\n",
    "\n",
    "<h3 style=\"text-align: center;\">AS.180.369 Tools for Writing a Research Paper in Economics</h3>\n",
    "<h3 style=\"text-align: center;\">Johns Hopkins University</h3>"
   ]
  },
  {
   "cell_type": "markdown",
   "id": "7f27442b-698c-432e-b2ba-112a3b6a49d1",
   "metadata": {
    "editable": true,
    "slideshow": {
     "slide_type": "slide"
    },
    "tags": []
   },
   "source": [
    "<h2 style=\"text-align: center;\">Cashless Society?</h2>"
   ]
  },
  {
   "cell_type": "markdown",
   "id": "39ee57fe-f88d-4c64-8b65-25e695415af0",
   "metadata": {
    "editable": true,
    "slideshow": {
     "slide_type": "fragment"
    },
    "tags": []
   },
   "source": [
    "Consumers have diverse payment options."
   ]
  },
  {
   "cell_type": "markdown",
   "id": "f2cc8a14-5c8d-44e6-92dc-88fff58fa187",
   "metadata": {
    "editable": true,
    "slideshow": {
     "slide_type": "fragment"
    },
    "tags": []
   },
   "source": [
    "2024 Findings from the Diary of Consumer Payment Choice:\n",
    "- Conditions during pandemic shifted payment choices toward greater card use\n",
    "\n",
    "<center><div style=\"max-width:800px;margin-left: auto; margin-right: auto;\">\n",
    "    \n",
    "![./instrument_percent.png](./instrument_percent.png)\n",
    "\n",
    "</div><center>"
   ]
  },
  {
   "cell_type": "markdown",
   "id": "2c8be0c6-0e70-4e6a-8f59-510a654603cd",
   "metadata": {
    "editable": true,
    "slideshow": {
     "slide_type": "slide"
    },
    "tags": []
   },
   "source": [
    "<h2 style=\"text-align: center;\">Maybe Not (Yet?)</h2>"
   ]
  },
  {
   "cell_type": "markdown",
   "id": "5392f443-f4be-4ea1-a3c6-c5b3d3f0a698",
   "metadata": {
    "editable": true,
    "slideshow": {
     "slide_type": "fragment"
    },
    "tags": []
   },
   "source": [
    "- Though cash share declined, cash use remained consistent\n",
    "\n",
    "<center><div style=\"max-width:800px;margin-left: auto; margin-right: auto;\">\n",
    "\n",
    "![./cash_use_num.png](./cash_use_num.png)\n",
    "\n",
    "</div><center>"
   ]
  },
  {
   "cell_type": "markdown",
   "id": "65054340-4c18-436b-b478-7cafb5191be8",
   "metadata": {
    "editable": true,
    "slideshow": {
     "slide_type": "subslide"
    },
    "tags": []
   },
   "source": [
    "- And >90% of people still intend to continue using cash\n",
    "<center><div style=\"max-width:800px;margin-left: auto; margin-right: auto;\">\n",
    "    \n",
    "![./still_use_cash.png](./still_use_cash.png)\n",
    "    \n",
    "</div><center>"
   ]
  },
  {
   "cell_type": "markdown",
   "id": "e08404f3-86b0-4184-9f69-588a51e6f7b9",
   "metadata": {
    "editable": true,
    "slideshow": {
     "slide_type": "slide"
    },
    "tags": []
   },
   "source": [
    "<h2 style=\"text-align: center;\">Federal Reserve's Survey and Diary of Consumer Payment Choice</h2>"
   ]
  },
  {
   "cell_type": "markdown",
   "id": "f604b385-883d-4722-be85-3bcd13b0ecb8",
   "metadata": {
    "editable": true,
    "slideshow": {
     "slide_type": "fragment"
    },
    "tags": []
   },
   "source": [
    "- Comprehensive picture of US consumers' payment preferences and behavior\n",
    "- Consumers report adoption of nine payment instruments, including cash.\n",
    "- Daily in October, report use of instruments (value, payee, location, device use)\n",
    "- Rate instrument characteristics and state preferences for particular situations"
   ]
  },
  {
   "cell_type": "markdown",
   "id": "f7af3875-a1cf-4245-9f33-81b852fa4603",
   "metadata": {
    "editable": true,
    "slideshow": {
     "slide_type": "slide"
    },
    "tags": []
   },
   "source": [
    "- Bagnall (2014): People still use cash, especially for low-value transactions"
   ]
  },
  {
   "cell_type": "markdown",
   "id": "c1bbd8a4-e0f9-4e20-bfc9-7abad4c119fe",
   "metadata": {
    "editable": true,
    "slideshow": {
     "slide_type": "fragment"
    },
    "tags": []
   },
   "source": [
    "- Arango (2015): lack of merchant card acceptance drives cash usage.\n",
    "- Wakamori and Welte (2017): consumer preference plays a central role.\n",
    "  - Even with universal card acceptance, cash usage would only decrease marginally"
   ]
  },
  {
   "cell_type": "markdown",
   "id": "97bd6671-29a2-4696-bf5a-600cfdf707f1",
   "metadata": {
    "editable": true,
    "slideshow": {
     "slide_type": "slide"
    },
    "tags": []
   },
   "source": [
    "<h2 style=\"text-align: center;\">So What Method Is Preferred for Small-Value Transasctions (<$25), and Why?</h2>"
   ]
  },
  {
   "cell_type": "markdown",
   "id": "cc6ecd1e-8480-408d-bcef-fc23a85483c7",
   "metadata": {
    "editable": true,
    "slideshow": {
     "slide_type": "slide"
    },
    "tags": []
   },
   "source": [
    "<h2 style=\"text-align: center;\">Our Data</h2>"
   ]
  },
  {
   "cell_type": "markdown",
   "id": "69d1c06a-c582-4841-a43c-3ded3380ab1a",
   "metadata": {
    "editable": true,
    "slideshow": {
     "slide_type": "fragment"
    },
    "tags": []
   },
   "source": [
    "- Data Source: Federal Reserve Diary of Consumer Payment Choice (2012–2024) \n",
    "  - Used the transaction-level datasets\n",
    "    * Instrument, amount, if in-person, characteristic for payment, preference\n",
    "- Missing data for 2013 and 2014"
   ]
  },
  {
   "cell_type": "markdown",
   "id": "d2ecbeec-2cf7-495b-b01b-03b2fca304e4",
   "metadata": {
    "editable": true,
    "slideshow": {
     "slide_type": "fragment"
    },
    "tags": []
   },
   "source": [
    "- Cleaned data to remove irrelevant entries "
   ]
  },
  {
   "cell_type": "markdown",
   "id": "e1696a38-32d3-4c23-9626-a0a1ace6f4ec",
   "metadata": {
    "editable": true,
    "slideshow": {
     "slide_type": "fragment"
    },
    "tags": []
   },
   "source": [
    "- Analysis Steps:\n",
    "  * Graph to visualize shifts in cash vs. card \n",
    "  * Mode of reasons for payment preferences\n",
    "  * Categorize payments by dollar amount and graph preferences for each  "
   ]
  },
  {
   "cell_type": "markdown",
   "id": "14ee29f8-8b79-4a53-a876-82e411de2636",
   "metadata": {
    "editable": true,
    "slideshow": {
     "slide_type": "fragment"
    },
    "tags": []
   },
   "source": [
    "- Tools: Jupyter Notebook, Python (Pandas, Matplotlib, NumPy), ChatGPT"
   ]
  },
  {
   "cell_type": "markdown",
   "id": "1e6fcae0-ce72-49d0-b32a-2476c92f6866",
   "metadata": {
    "editable": true,
    "slideshow": {
     "slide_type": "slide"
    },
    "tags": []
   },
   "source": [
    "<h2 style=\"text-align: center;\">Results</h2>"
   ]
  },
  {
   "attachments": {},
   "cell_type": "markdown",
   "id": "cd880852-b8eb-4442-9cbb-88dca2e89a47",
   "metadata": {
    "editable": true,
    "slideshow": {
     "slide_type": "fragment"
    },
    "tags": []
   },
   "source": [
    "How Did the Number of Cash vs Card Payments Change Over Time? \n",
    "\n",
    "<center><div style=\"max-width:800px;margin-left: auto; margin-right: auto;\">\n",
    "    \n",
    "![./num_cash_card_payment.png](./num_cash_card_payment.png)\n",
    "    \n",
    "</div><center>"
   ]
  },
  {
   "cell_type": "markdown",
   "id": "0d6c2daa-510e-4f96-8a65-57ed1ae5607a",
   "metadata": {
    "editable": true,
    "slideshow": {
     "slide_type": "subslide"
    },
    "tags": []
   },
   "source": [
    "Consumers' Stated Reasons for Paying with Cash vs Card\n",
    "\n",
    "- Cash Preference:\n",
    "  * Main reason: Helps control spending\n",
    " \n",
    "- Card Preference:\n",
    "  * Main reason: Accepted at lots of places\n",
    "\n",
    "Implications:\n",
    "- Personal budgeting preferences significantly influence payment choices \n",
    "- Merchant acceptance policies also play a critical role in shaping consumer payment behavior"
   ]
  },
  {
   "attachments": {},
   "cell_type": "markdown",
   "id": "1ca44f81-e907-42fd-82a2-4216ac719161",
   "metadata": {
    "editable": true,
    "slideshow": {
     "slide_type": "subslide"
    },
    "tags": []
   },
   "source": [
    "How does Transaction Size affect Consumer Preferences for Cash vs Card?\n",
    "\n",
    "<center><div style=\"max-width:800px;margin-left: auto; margin-right: auto;\">\n",
    "    \n",
    "![./transaction_size_groupings.png](./transaction_size_groupings.png)\n",
    "    \n",
    "</div><center>"
   ]
  },
  {
   "cell_type": "markdown",
   "id": "1044cae0-3c7b-4b73-977f-c8dfaf680f1b",
   "metadata": {
    "editable": true,
    "slideshow": {
     "slide_type": "slide"
    },
    "tags": []
   },
   "source": [
    "<h1 style=\"text-align: center;\">So What Now?</h1>"
   ]
  },
  {
   "cell_type": "markdown",
   "id": "3aafadb1-b46b-4df0-a059-707db188767d",
   "metadata": {
    "editable": true,
    "slideshow": {
     "slide_type": "fragment"
    },
    "tags": []
   },
   "source": [
    "- Though card usage increases, cash persists in small-value transactions\n",
    "- Preferences influenced by practical and behavioral factors\n",
    "  - Transaction size, budgeting benefits, etc."
   ]
  },
  {
   "cell_type": "markdown",
   "id": "c9116e94-086a-4079-8e5d-89fe6fc5d138",
   "metadata": {
    "editable": true,
    "slideshow": {
     "slide_type": "fragment"
    },
    "tags": []
   },
   "source": [
    "- Business insight: flexible payment options \n",
    "- Financial Institutions/Tech: Develop products tailored to consumer needs\n",
    "- Policy focus: support payment diversity and inform decisions on currency"
   ]
  },
  {
   "cell_type": "markdown",
   "id": "a8507b41-55d9-46ff-8f3f-2eb18d11f4de",
   "metadata": {
    "editable": true,
    "slideshow": {
     "slide_type": "fragment"
    },
    "tags": []
   },
   "source": [
    "- Impact of mobile wallets, contactless payments, and other emerging technologies\n",
    "- Intersection of security, privacy, and budgeting attitudes with payment preferences"
   ]
  },
  {
   "cell_type": "markdown",
   "id": "4feac339-1ef0-488d-a5a1-642c44a3e75b",
   "metadata": {
    "editable": true,
    "slideshow": {
     "slide_type": ""
    },
    "tags": []
   },
   "source": []
  },
  {
   "cell_type": "code",
   "execution_count": null,
   "id": "7a4a9d92-7d69-4161-9d4c-5812ce0b4aa5",
   "metadata": {
    "editable": true,
    "slideshow": {
     "slide_type": "slide"
    },
    "tags": []
   },
   "outputs": [],
   "source": []
  }
 ],
 "metadata": {
  "kernelspec": {
   "display_name": "econark",
   "language": "python",
   "name": "econark"
  },
  "language_info": {
   "codemirror_mode": {
    "name": "ipython",
    "version": 3
   },
   "file_extension": ".py",
   "mimetype": "text/x-python",
   "name": "python",
   "nbconvert_exporter": "python",
   "pygments_lexer": "ipython3",
   "version": "3.11.10"
  }
 },
 "nbformat": 4,
 "nbformat_minor": 5
}
