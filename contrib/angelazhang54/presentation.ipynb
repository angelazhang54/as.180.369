{
 "cells": [
  {
   "cell_type": "markdown",
   "id": "6819c729-1cca-418d-ac21-cbf0b513f34b",
   "metadata": {
    "editable": true,
    "slideshow": {
     "slide_type": "slide"
    },
    "tags": []
   },
   "source": [
    "<h1 style=\"text-align: center;\">Consumer Payment Preferences for Small-Value Transactions: Cash or Card?</h1>\n",
    "<h4 style=\"text-align: center;\">by Angela Zhang</h4>\n",
    "\n",
    "<h3 style=\"text-align: center;\">AS.180.369 Tools for Writing a Research Paper in Economics</h3>\n",
    "<h3 style=\"text-align: center;\">Johns Hopkins University</h3>"
   ]
  },
  {
   "cell_type": "markdown",
   "id": "7f27442b-698c-432e-b2ba-112a3b6a49d1",
   "metadata": {
    "editable": true,
    "slideshow": {
     "slide_type": "slide"
    },
    "tags": []
   },
   "source": [
    "<h2 style=\"text-align: center;\">Abstract</h2>"
   ]
  },
  {
   "cell_type": "markdown",
   "id": "691e30e6-e28b-41de-ad1b-95772b53a3a3",
   "metadata": {
    "editable": true,
    "slideshow": {
     "slide_type": "fragment"
    },
    "tags": []
   },
   "source": [
    "- Focus: Consumer payment preferences for small-value, in-person transactions in the U.S."
   ]
  },
  {
   "cell_type": "markdown",
   "id": "f2cc8a14-5c8d-44e6-92dc-88fff58fa187",
   "metadata": {
    "editable": true,
    "slideshow": {
     "slide_type": "fragment"
    },
    "tags": []
   },
   "source": [
    "- Data: Federal Reserve's Diary of Consumer Payment Choice (2012–2023)."
   ]
  },
  {
   "cell_type": "markdown",
   "id": "5392f443-f4be-4ea1-a3c6-c5b3d3f0a698",
   "metadata": {
    "editable": true,
    "slideshow": {
     "slide_type": "fragment"
    },
    "tags": []
   },
   "source": [
    "- Methodology: Data analysis to track trends in payment method selection over time."
   ]
  },
  {
   "cell_type": "markdown",
   "id": "e3dd80ce-b88b-427c-92ab-78264c250dbe",
   "metadata": {
    "editable": true,
    "slideshow": {
     "slide_type": "fragment"
    },
    "tags": []
   },
   "source": [
    "- Main Findings:\n",
    "  * Card payments are growing for all transactions.\n",
    "  * Cash usage remains dominant for transactions under $25."
   ]
  },
  {
   "cell_type": "markdown",
   "id": "e546b7ea-5e68-4525-96bc-17e40f8f6160",
   "metadata": {
    "editable": true,
    "slideshow": {
     "slide_type": "slide"
    },
    "tags": []
   },
   "source": [
    "<h2 style=\"text-align: center;\">Introduction</h2>"
   ]
  },
  {
   "cell_type": "markdown",
   "id": "fa6b3035-cf85-45b5-885b-78ef0e37b47d",
   "metadata": {
    "editable": true,
    "slideshow": {
     "slide_type": "fragment"
    },
    "tags": []
   },
   "source": [
    "- Consumers have diverse payment options.\n",
    "- Small-value payments often still rely on cash despite electronic payment growth."
   ]
  },
  {
   "cell_type": "markdown",
   "id": "5660bb77-9f82-41a7-af63-5ce4aecae80a",
   "metadata": {
    "editable": true,
    "slideshow": {
     "slide_type": "fragment"
    },
    "tags": []
   },
   "source": [
    "- Factors Influencing Payment Choice:\n",
    "  * Transaction size, budgeting habits, merchant acceptance, etc."
   ]
  },
  {
   "cell_type": "markdown",
   "id": "312f4629-be9e-4d97-9fd7-8969f98e5fe2",
   "metadata": {
    "editable": true,
    "slideshow": {
     "slide_type": "fragment"
    },
    "tags": []
   },
   "source": [
    "- Importance of Understanding Preferences:\n",
    "  * Businesses: Aligning payment systems with customer preferences increases profit.\n",
    "  * Financial Institutions/Tech: Develop products tailored to consumer needs.\n",
    "  * Policymakers: Inform decisions on currency and digital payment promotion."
   ]
  },
  {
   "cell_type": "markdown",
   "id": "824a02b3-55c2-412c-a0b2-9703cf64e487",
   "metadata": {
    "editable": true,
    "slideshow": {
     "slide_type": "slide"
    },
    "tags": []
   },
   "source": [
    "<h2 style=\"text-align: center;\">Literature Review</h2>"
   ]
  },
  {
   "attachments": {},
   "cell_type": "markdown",
   "id": "fc3509dd-ae4e-40c3-aef3-8e7e8e5e4d39",
   "metadata": {
    "editable": true,
    "slideshow": {
     "slide_type": "fragment"
    },
    "tags": []
   },
   "source": [
    "![./final_litmap.png](./final_litmap.png)"
   ]
  },
  {
   "cell_type": "markdown",
   "id": "cc6ecd1e-8480-408d-bcef-fc23a85483c7",
   "metadata": {
    "editable": true,
    "slideshow": {
     "slide_type": "slide"
    },
    "tags": []
   },
   "source": [
    "<h2 style=\"text-align: center;\">Methodology</h2>"
   ]
  },
  {
   "cell_type": "markdown",
   "id": "69d1c06a-c582-4841-a43c-3ded3380ab1a",
   "metadata": {
    "editable": true,
    "slideshow": {
     "slide_type": "fragment"
    },
    "tags": []
   },
   "source": [
    "- Data Source:Federal Reserve’s Diary of Consumer Payment Choice (2012–2024)."
   ]
  },
  {
   "cell_type": "markdown",
   "id": "e1696a38-32d3-4c23-9626-a0a1ace6f4ec",
   "metadata": {
    "editable": true,
    "slideshow": {
     "slide_type": "fragment"
    },
    "tags": []
   },
   "source": [
    "- Analysis Steps:\n",
    "  * Graph to visualize shifts in cash vs. card \n",
    "  * Mode of reasons for payment preferences\n",
    "  * Categorize payments by dollar amount and graph preferences for each  "
   ]
  },
  {
   "cell_type": "markdown",
   "id": "14ee29f8-8b79-4a53-a876-82e411de2636",
   "metadata": {
    "editable": true,
    "slideshow": {
     "slide_type": "fragment"
    },
    "tags": []
   },
   "source": [
    "- Tools: Jupyter Notebook, Python (Pandas, Matplotlib, NumPy), ChatGPT"
   ]
  },
  {
   "cell_type": "markdown",
   "id": "1e6fcae0-ce72-49d0-b32a-2476c92f6866",
   "metadata": {
    "editable": true,
    "slideshow": {
     "slide_type": "slide"
    },
    "tags": []
   },
   "source": [
    "<h2 style=\"text-align: center;\">Results</h2>"
   ]
  },
  {
   "attachments": {},
   "cell_type": "markdown",
   "id": "cd880852-b8eb-4442-9cbb-88dca2e89a47",
   "metadata": {
    "editable": true,
    "slideshow": {
     "slide_type": "fragment"
    },
    "tags": []
   },
   "source": [
    "How Did the Number of Cash vs Card Payments Change Over Time? \n",
    "\n",
    "![./num_cash_card_payment.png](./num_cash_card_payment.png)"
   ]
  },
  {
   "cell_type": "markdown",
   "id": "0d6c2daa-510e-4f96-8a65-57ed1ae5607a",
   "metadata": {
    "editable": true,
    "slideshow": {
     "slide_type": "subslide"
    },
    "tags": []
   },
   "source": [
    "Consumers' Stated Reasons for Paying with Cash vs Card.\n",
    "\n",
    "- Cash Preference:\n",
    "  * Main reason: Helps control spending.\n",
    "  * Provide a clear view of remaining money.\n",
    "- Card Preference:\n",
    "  * Main reason: Widely accepted by merchants.\n",
    "  * Merchant acceptance, including some refusing cash, encourages card usage.\n",
    "\n",
    "Implications:\n",
    "- Personal budgeting preferences significantly influence payment choices for low-value, in-person transactions.\n",
    "- Merchant acceptance policies also play a critical role in shaping consumer payment behavior."
   ]
  },
  {
   "attachments": {},
   "cell_type": "markdown",
   "id": "1ca44f81-e907-42fd-82a2-4216ac719161",
   "metadata": {
    "editable": true,
    "slideshow": {
     "slide_type": "subslide"
    },
    "tags": []
   },
   "source": [
    "How does Transaction Size affect Consumer Preferences for Cash vs Card?\n",
    "\n",
    "![./transaction_size_groupings.png](./transaction_size_groupings.png)"
   ]
  },
  {
   "cell_type": "markdown",
   "id": "1044cae0-3c7b-4b73-977f-c8dfaf680f1b",
   "metadata": {
    "editable": true,
    "slideshow": {
     "slide_type": "slide"
    },
    "tags": []
   },
   "source": [
    "<h1 style=\"text-align: center;\">Conclusion</h1>"
   ]
  },
  {
   "cell_type": "markdown",
   "id": "3aafadb1-b46b-4df0-a059-707db188767d",
   "metadata": {
    "editable": true,
    "slideshow": {
     "slide_type": "fragment"
    },
    "tags": []
   },
   "source": [
    "- Highlight cash’s role in liquidity management and budgeting.\n",
    "- Demonstrates how cash vs. card usage evolves over time as merchant card acceptance improves.\n",
    "- Shows that consumer preferences are influenced by both practical (transaction costs) and behavioral (budgeting benefits) factors."
   ]
  },
  {
   "cell_type": "markdown",
   "id": "a8507b41-55d9-46ff-8f3f-2eb18d11f4de",
   "metadata": {
    "editable": true,
    "slideshow": {
     "slide_type": "fragment"
    },
    "tags": []
   },
   "source": [
    "Potential Future Research Directions:\n",
    "- Explore the impact of mobile wallets, contactless payments, and other emerging technologies.\n",
    "- Investigate how security, privacy, and budgeting attitudes intersect with payment preferences in a digital economy."
   ]
  },
  {
   "cell_type": "code",
   "execution_count": null,
   "id": "53f0712b-f8c7-4a6f-9c0d-9b11075efbab",
   "metadata": {},
   "outputs": [],
   "source": []
  }
 ],
 "metadata": {
  "kernelspec": {
   "display_name": "econark",
   "language": "python",
   "name": "econark"
  },
  "language_info": {
   "codemirror_mode": {
    "name": "ipython",
    "version": 3
   },
   "file_extension": ".py",
   "mimetype": "text/x-python",
   "name": "python",
   "nbconvert_exporter": "python",
   "pygments_lexer": "ipython3",
   "version": "3.11.10"
  }
 },
 "nbformat": 4,
 "nbformat_minor": 5
}
