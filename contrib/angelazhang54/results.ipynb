{
 "cells": [
  {
   "cell_type": "markdown",
   "id": "70e66bb4-312f-4fdd-805b-95e17b5bd054",
   "metadata": {},
   "source": [
    "# Results"
   ]
  },
  {
   "cell_type": "markdown",
   "id": "ea0b3387-8c9e-4b34-98b6-b6364cbd93ec",
   "metadata": {},
   "source": [
    "This research paper examines consumer payment preferences, particularly the choice between cash and card, for in-person transactions under $25 in the United States. The data used is from the Federal Reserve's annual Diary of Consumer Payment Choice from 2012 to 2023, with missing diaries for 2013 and 2014."
   ]
  },
  {
   "cell_type": "markdown",
   "id": "068e8009-035f-4358-bfa2-fa8245369f45",
   "metadata": {},
   "source": [
    "The use of cash for transactions under $25 has generally declined from 2012 to 2023, however, cash payments have increased from 2020 to 2023. Conversely, the use of cards has shown an overall increase over the past 10 years, with the proportion of card payments also rising."
   ]
  },
  {
   "cell_type": "markdown",
   "id": "1e9b8587-c104-4987-8ea0-d8152cb67e14",
   "metadata": {},
   "source": [
    "The most common reason respondents answered for making their payment in cash was budget control, whereas the most common reason for using card was that it is accepted at a lot of places. This suggests that cash might be more useful for those on a stricter budget because it provides no opportunity for one to unintentially overspend, and cash provides a very clear image of how much of your budget is left just by looking at your wallet. This emphasizes the role of personal budgeting preferences in determining consumer payment preferences. In terms of using card, many merchants have now been increasingly accepting different types of credit and debit cards, and some don't take cash anymore. The responses seem to show that consumers prefer paying with card when merchants accept these types of cards, highlighting the role of merchant acceptance in consumer payment preferences. "
   ]
  },
  {
   "cell_type": "markdown",
   "id": "b6d9cfd4-2bdc-44e3-9ddb-9397d513558a",
   "metadata": {},
   "source": []
  }
 ],
 "metadata": {
  "kernelspec": {
   "display_name": "econark",
   "language": "python",
   "name": "econark"
  },
  "language_info": {
   "codemirror_mode": {
    "name": "ipython",
    "version": 3
   },
   "file_extension": ".py",
   "mimetype": "text/x-python",
   "name": "python",
   "nbconvert_exporter": "python",
   "pygments_lexer": "ipython3",
   "version": "3.11.8"
  }
 },
 "nbformat": 4,
 "nbformat_minor": 5
}
