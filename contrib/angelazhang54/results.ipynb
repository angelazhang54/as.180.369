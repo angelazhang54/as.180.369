{
 "cells": [
  {
   "cell_type": "markdown",
   "id": "70e66bb4-312f-4fdd-805b-95e17b5bd054",
   "metadata": {},
   "source": [
    "# Results"
   ]
  },
  {
   "cell_type": "markdown",
   "id": "ea0b3387-8c9e-4b34-98b6-b6364cbd93ec",
   "metadata": {},
   "source": [
    "This paper tries to determine consumer payment preferences, particularly the choice between cash and card, for in-person transactions under $25 in the United States. The data used is from the Federal Reserve's annual Diary of Consumer Payment Choice from 2012 to 2023, with missing diaries for 2013 and 2014."
   ]
  },
  {
   "cell_type": "markdown",
   "id": "068e8009-035f-4358-bfa2-fa8245369f45",
   "metadata": {},
   "source": [
    "The number of cash payments used to pay for transactions under $25 has seen a general declining trend from 2012 to 2023, however, the number of cash payments from 2020 to 2023 has been increasing. The number of card payments has shown an overall increase in the past 10 years, and the proportion of card payments has been increasing as well."
   ]
  },
  {
   "cell_type": "markdown",
   "id": "b6d9cfd4-2bdc-44e3-9ddb-9397d513558a",
   "metadata": {},
   "source": [
    "Several factors that may have contributed to these trends include "
   ]
  }
 ],
 "metadata": {
  "kernelspec": {
   "display_name": "econark",
   "language": "python",
   "name": "econark"
  },
  "language_info": {
   "codemirror_mode": {
    "name": "ipython",
    "version": 3
   },
   "file_extension": ".py",
   "mimetype": "text/x-python",
   "name": "python",
   "nbconvert_exporter": "python",
   "pygments_lexer": "ipython3",
   "version": "3.11.8"
  }
 },
 "nbformat": 4,
 "nbformat_minor": 5
}
