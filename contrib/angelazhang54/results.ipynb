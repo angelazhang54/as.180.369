{
 "cells": [
  {
   "cell_type": "markdown",
   "id": "70e66bb4-312f-4fdd-805b-95e17b5bd054",
   "metadata": {},
   "source": [
    "# Results"
   ]
  },
  {
   "cell_type": "markdown",
   "id": "ea0b3387-8c9e-4b34-98b6-b6364cbd93ec",
   "metadata": {},
   "source": [
    "This research paper explores consumer payment preferences in the United States, focusing on the choice between cash and card for in-person transactions under $25. The analysis uses data from the Federal Reserve's annual Diary of Consumer Payment Choice from 2012 to 2023, excluding 2013 and 2014, for which data is unavailable."
   ]
  },
  {
   "cell_type": "markdown",
   "id": "068e8009-035f-4358-bfa2-fa8245369f45",
   "metadata": {},
   "source": [
    "The use of cash for transactions under $25 generally declined from 2012 to 2023, although cash payments did increase from 2020 to 2023. In contrast, card usage has steadily risen over the past decade, with the share of card payments also growing during this period."
   ]
  },
  {
   "cell_type": "markdown",
   "id": "1e9b8587-c104-4987-8ea0-d8152cb67e14",
   "metadata": {},
   "source": [
    "The main reason respondents reported using cash was to control their spending, while the main reason for using a card was that it was widely accepted by merchants. This indicates that consumers with stricter budgets may prefer cash, as it allows them to see exactly how much money they have left. Personal budgeting preferences, therefore, play an important role in shaping payment choices for low-value, in-person purchases. On the other hand, the growing acceptance of credit and debit cards by merchants, with some even refusing cash, seems to encourage consumers to use cards when they are an option. This underscores how merchant acceptance also influences consumer payment choices for small in-person transactions."
   ]
  },
  {
   "cell_type": "markdown",
   "id": "b6d9cfd4-2bdc-44e3-9ddb-9397d513558a",
   "metadata": {},
   "source": [
    "I conducted a logistic regression to examine the effect of transaction amount on whether consumers used cash or a card. The model showed a poor fit, indicating that transaction amount alone does not strongly influence whether consumers choose card or cash for low-value transactions and that other factors may be more significant in determining that choice."
   ]
  }
 ],
 "metadata": {
  "kernelspec": {
   "display_name": "econark",
   "language": "python",
   "name": "econark"
  },
  "language_info": {
   "codemirror_mode": {
    "name": "ipython",
    "version": 3
   },
   "file_extension": ".py",
   "mimetype": "text/x-python",
   "name": "python",
   "nbconvert_exporter": "python",
   "pygments_lexer": "ipython3",
   "version": "3.11.8"
  }
 },
 "nbformat": 4,
 "nbformat_minor": 5
}
